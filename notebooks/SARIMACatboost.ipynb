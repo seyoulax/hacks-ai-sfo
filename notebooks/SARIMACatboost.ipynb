{
  "nbformat": 4,
  "nbformat_minor": 0,
  "metadata": {
    "colab": {
      "provenance": []
    },
    "kernelspec": {
      "name": "python3",
      "display_name": "Python 3"
    },
    "language_info": {
      "name": "python"
    }
  },
  "cells": [
    {
      "cell_type": "code",
      "execution_count": null,
      "metadata": {
        "id": "fVswPByBISq0"
      },
      "outputs": [],
      "source": [
        "import pandas as pd\n",
        "import numpy as np\n",
        "from statsmodels.tsa.statespace.sarimax import SARIMAX\n",
        "from catboost import CatBoostRegressor\n",
        "from sklearn.preprocessing import StandardScaler\n",
        "import matplotlib.pyplot as plt\n",
        "from datetime import datetime\n",
        "\n",
        "train = pd.read_csv('train (3).csv')\n",
        "test = pd.read_csv('test_sfo_processed-2.csv')\n",
        "\n",
        "timestamps = train['week_beg'].values * 100\n",
        "test_timestamps = [timestamps[-1] + 604800 * i for i in range(1, 30)]\n",
        "\n",
        "train[train.select_dtypes('object').columns] = train.loc[:, train.select_dtypes('object').columns].replace(' ', 0).astype('float')\n",
        "test[test.select_dtypes('object').columns] = test.loc[:, test.select_dtypes('object').columns].replace(' ', 0).astype('float')\n",
        "\n",
        "train.insert(0, 'week_number', train.index.values)\n"
      ]
    },
    {
      "cell_type": "code",
      "source": [
        "for col in ['_competitor_rating',\n",
        "            '_competitor_coverage',\n",
        "            '_competitor_money',\n",
        "            '_competitor_digital',\n",
        "            '_competitor_sponsorship_money',\n",
        "            '_competitor_oon_money',\n",
        "            '_competitor_radio_money',\n",
        "            '_competitor_total']:\n",
        "\n",
        "    train['competitors_'+col.rsplit('_', 1)[-1]] = train[[str(i) + col for i in range(1, 14)]].sum(axis=1)\n",
        "    train.drop(columns=[str(i) + col for i in range(1, 14)], inplace=True)\n",
        "\n",
        "col = '_competitor_tv_reg'\n",
        "train['competitors_tv_reg'] = train[[str(i) + '_competitor_tv_reg' for i in [3, 5, 6, 7, 9, 12]]].sum(axis=1)\n",
        "train.drop(columns=[str(i) + '_competitor_tv_reg' for i in [3, 5, 6, 7, 9, 12]], inplace=True)\n"
      ],
      "metadata": {
        "id": "dMjaRkmNImRc"
      },
      "execution_count": null,
      "outputs": []
    },
    {
      "cell_type": "code",
      "source": [
        "for col in ['_video_rating',\n",
        "            '_video_money',\n",
        "            '_video_coverage_5']:\n",
        "\n",
        "    train.drop(columns=[str(i) + col for i in range(1, 5)], inplace=True)\n",
        "\n",
        "num_cols = train.columns.values.tolist()\n",
        "num_cols.remove('week_beg')\n",
        "num_cols.remove('revenue')\n",
        "\n"
      ],
      "metadata": {
        "id": "UH5uBZ__IpxZ"
      },
      "execution_count": null,
      "outputs": []
    },
    {
      "cell_type": "code",
      "source": [
        "target_col = ['revenue']\n",
        "train = train[num_cols + target_col]\n",
        "\n",
        "ss = StandardScaler()\n",
        "train[num_cols] = ss.fit_transform(train[num_cols])\n",
        "\n",
        "ss_target = StandardScaler()\n",
        "train[['revenue']] = ss_target.fit_transform(train[['revenue']])\n",
        "\n"
      ],
      "metadata": {
        "id": "RmWrvqZjIrXa"
      },
      "execution_count": null,
      "outputs": []
    },
    {
      "cell_type": "code",
      "source": [
        "X_train, y_train = train.drop(columns=['revenue']), train['revenue']\n",
        "\n",
        "sarima_model = SARIMAX(y_train, order=(1, 1, 1), seasonal_order=(0, 1, 1, 52))\n",
        "sarima_result = sarima_model.fit()\n",
        "\n",
        "sarima_pred = sarima_result.predict(start=len(train), end=len(train) + len(test) - 1, dynamic=False)\n",
        "\n",
        "X_train_catboost, y_train_catboost = train.drop(columns=['revenue']), train['revenue']\n",
        "\n",
        "catboost_model = CatBoostRegressor()\n",
        "catboost_model.fit(X_train_catboost, y_train_catboost)\n",
        "\n",
        "catboost_pred = catboost_model.predict(test.drop(columns=['week_beg']))\n",
        "\n",
        "sarima_pred_unscaled = ss_target.inverse_transform(sarima_pred.reshape(-1, 1)).flatten()\n",
        "catboost_pred_unscaled = ss_target.inverse_transform(catboost_pred.reshape(-1, 1)).flatten()\n",
        "train_revenue = ss_target.inverse_transform(train['revenue'].values.reshape(-1, 1)).flatten()\n",
        "\n",
        "weeks = [datetime.utcfromtimestamp(timestamp).strftime('%Y-%m-%d') for timestamp in timestamps]\n",
        "test_weeks = [datetime.utcfromtimestamp(timestamp).strftime('%Y-%m-%d') for timestamp in test_timestamps]\n",
        "\n",
        "plt.figure(figsize=(13,10))\n",
        "plt.plot(weeks, train_revenue/10**6, label='Historical revenue')\n",
        "plt.plot(test_weeks, sarima_pred_unscaled/10**6, color='blue', label='SARIMA prediction')\n",
        "plt.plot(test_weeks, catboost_pred_unscaled/10**6, color='green', label='CatBoost prediction')\n",
        "plt.title('Historical and Predicted Revenue')\n",
        "plt.xlabel('Date')\n",
        "plt.ylabel('Revenue (Millions)')\n",
        "plt.legend()\n",
        "plt.xticks((weeks+test_weeks)[::10] , fontsize=9, rotation=45)\n",
        "plt.show()"
      ],
      "metadata": {
        "id": "6urKfuBsItKh"
      },
      "execution_count": null,
      "outputs": []
    }
  ]
}