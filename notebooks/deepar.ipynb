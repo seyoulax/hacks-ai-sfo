{
  "nbformat": 4,
  "nbformat_minor": 0,
  "metadata": {
    "colab": {
      "provenance": [],
      "gpuType": "T4"
    },
    "kernelspec": {
      "name": "python3",
      "display_name": "Python 3"
    },
    "language_info": {
      "name": "python"
    },
    "accelerator": "GPU",
    "widgets": {
      "application/vnd.jupyter.widget-state+json": {
        "e824121651d44fd3aa56fb6c02b765d9": {
          "model_module": "@jupyter-widgets/controls",
          "model_name": "HBoxModel",
          "model_module_version": "1.5.0",
          "state": {
            "_dom_classes": [],
            "_model_module": "@jupyter-widgets/controls",
            "_model_module_version": "1.5.0",
            "_model_name": "HBoxModel",
            "_view_count": null,
            "_view_module": "@jupyter-widgets/controls",
            "_view_module_version": "1.5.0",
            "_view_name": "HBoxView",
            "box_style": "",
            "children": [
              "IPY_MODEL_72557dd127ed4216b0162f7790917d14",
              "IPY_MODEL_c6d6cf3c3808445fafbee0bb12d4e5f2",
              "IPY_MODEL_faabb1605d9b4abb90de51ca7d889432"
            ],
            "layout": "IPY_MODEL_a2740b169caa493aa88670a21934cd85"
          }
        },
        "72557dd127ed4216b0162f7790917d14": {
          "model_module": "@jupyter-widgets/controls",
          "model_name": "HTMLModel",
          "model_module_version": "1.5.0",
          "state": {
            "_dom_classes": [],
            "_model_module": "@jupyter-widgets/controls",
            "_model_module_version": "1.5.0",
            "_model_name": "HTMLModel",
            "_view_count": null,
            "_view_module": "@jupyter-widgets/controls",
            "_view_module_version": "1.5.0",
            "_view_name": "HTMLView",
            "description": "",
            "description_tooltip": null,
            "layout": "IPY_MODEL_f7464a2e7018423f833349ad0ef026fb",
            "placeholder": "​",
            "style": "IPY_MODEL_7f08234ee0b74852b86d02b0e340bdd7",
            "value": "Epoch 19: "
          }
        },
        "c6d6cf3c3808445fafbee0bb12d4e5f2": {
          "model_module": "@jupyter-widgets/controls",
          "model_name": "FloatProgressModel",
          "model_module_version": "1.5.0",
          "state": {
            "_dom_classes": [],
            "_model_module": "@jupyter-widgets/controls",
            "_model_module_version": "1.5.0",
            "_model_name": "FloatProgressModel",
            "_view_count": null,
            "_view_module": "@jupyter-widgets/controls",
            "_view_module_version": "1.5.0",
            "_view_name": "ProgressView",
            "bar_style": "success",
            "description": "",
            "description_tooltip": null,
            "layout": "IPY_MODEL_1b0a7275b9be4f68990a07fde299ce2e",
            "max": 1,
            "min": 0,
            "orientation": "horizontal",
            "style": "IPY_MODEL_707ec96c871546018b9dbab22e9bf57b",
            "value": 1
          }
        },
        "faabb1605d9b4abb90de51ca7d889432": {
          "model_module": "@jupyter-widgets/controls",
          "model_name": "HTMLModel",
          "model_module_version": "1.5.0",
          "state": {
            "_dom_classes": [],
            "_model_module": "@jupyter-widgets/controls",
            "_model_module_version": "1.5.0",
            "_model_name": "HTMLModel",
            "_view_count": null,
            "_view_module": "@jupyter-widgets/controls",
            "_view_module_version": "1.5.0",
            "_view_name": "HTMLView",
            "description": "",
            "description_tooltip": null,
            "layout": "IPY_MODEL_20e7d6cf88134c9abd08ab233d6c2f83",
            "placeholder": "​",
            "style": "IPY_MODEL_66ced90e57a144889d1ff2118d6e7fb7",
            "value": " 40/? [00:01&lt;00:00, 22.88it/s, v_num=7, train_loss=15.50]"
          }
        },
        "a2740b169caa493aa88670a21934cd85": {
          "model_module": "@jupyter-widgets/base",
          "model_name": "LayoutModel",
          "model_module_version": "1.2.0",
          "state": {
            "_model_module": "@jupyter-widgets/base",
            "_model_module_version": "1.2.0",
            "_model_name": "LayoutModel",
            "_view_count": null,
            "_view_module": "@jupyter-widgets/base",
            "_view_module_version": "1.2.0",
            "_view_name": "LayoutView",
            "align_content": null,
            "align_items": null,
            "align_self": null,
            "border": null,
            "bottom": null,
            "display": "inline-flex",
            "flex": null,
            "flex_flow": "row wrap",
            "grid_area": null,
            "grid_auto_columns": null,
            "grid_auto_flow": null,
            "grid_auto_rows": null,
            "grid_column": null,
            "grid_gap": null,
            "grid_row": null,
            "grid_template_areas": null,
            "grid_template_columns": null,
            "grid_template_rows": null,
            "height": null,
            "justify_content": null,
            "justify_items": null,
            "left": null,
            "margin": null,
            "max_height": null,
            "max_width": null,
            "min_height": null,
            "min_width": null,
            "object_fit": null,
            "object_position": null,
            "order": null,
            "overflow": null,
            "overflow_x": null,
            "overflow_y": null,
            "padding": null,
            "right": null,
            "top": null,
            "visibility": null,
            "width": "100%"
          }
        },
        "f7464a2e7018423f833349ad0ef026fb": {
          "model_module": "@jupyter-widgets/base",
          "model_name": "LayoutModel",
          "model_module_version": "1.2.0",
          "state": {
            "_model_module": "@jupyter-widgets/base",
            "_model_module_version": "1.2.0",
            "_model_name": "LayoutModel",
            "_view_count": null,
            "_view_module": "@jupyter-widgets/base",
            "_view_module_version": "1.2.0",
            "_view_name": "LayoutView",
            "align_content": null,
            "align_items": null,
            "align_self": null,
            "border": null,
            "bottom": null,
            "display": null,
            "flex": null,
            "flex_flow": null,
            "grid_area": null,
            "grid_auto_columns": null,
            "grid_auto_flow": null,
            "grid_auto_rows": null,
            "grid_column": null,
            "grid_gap": null,
            "grid_row": null,
            "grid_template_areas": null,
            "grid_template_columns": null,
            "grid_template_rows": null,
            "height": null,
            "justify_content": null,
            "justify_items": null,
            "left": null,
            "margin": null,
            "max_height": null,
            "max_width": null,
            "min_height": null,
            "min_width": null,
            "object_fit": null,
            "object_position": null,
            "order": null,
            "overflow": null,
            "overflow_x": null,
            "overflow_y": null,
            "padding": null,
            "right": null,
            "top": null,
            "visibility": null,
            "width": null
          }
        },
        "7f08234ee0b74852b86d02b0e340bdd7": {
          "model_module": "@jupyter-widgets/controls",
          "model_name": "DescriptionStyleModel",
          "model_module_version": "1.5.0",
          "state": {
            "_model_module": "@jupyter-widgets/controls",
            "_model_module_version": "1.5.0",
            "_model_name": "DescriptionStyleModel",
            "_view_count": null,
            "_view_module": "@jupyter-widgets/base",
            "_view_module_version": "1.2.0",
            "_view_name": "StyleView",
            "description_width": ""
          }
        },
        "1b0a7275b9be4f68990a07fde299ce2e": {
          "model_module": "@jupyter-widgets/base",
          "model_name": "LayoutModel",
          "model_module_version": "1.2.0",
          "state": {
            "_model_module": "@jupyter-widgets/base",
            "_model_module_version": "1.2.0",
            "_model_name": "LayoutModel",
            "_view_count": null,
            "_view_module": "@jupyter-widgets/base",
            "_view_module_version": "1.2.0",
            "_view_name": "LayoutView",
            "align_content": null,
            "align_items": null,
            "align_self": null,
            "border": null,
            "bottom": null,
            "display": null,
            "flex": "2",
            "flex_flow": null,
            "grid_area": null,
            "grid_auto_columns": null,
            "grid_auto_flow": null,
            "grid_auto_rows": null,
            "grid_column": null,
            "grid_gap": null,
            "grid_row": null,
            "grid_template_areas": null,
            "grid_template_columns": null,
            "grid_template_rows": null,
            "height": null,
            "justify_content": null,
            "justify_items": null,
            "left": null,
            "margin": null,
            "max_height": null,
            "max_width": null,
            "min_height": null,
            "min_width": null,
            "object_fit": null,
            "object_position": null,
            "order": null,
            "overflow": null,
            "overflow_x": null,
            "overflow_y": null,
            "padding": null,
            "right": null,
            "top": null,
            "visibility": null,
            "width": null
          }
        },
        "707ec96c871546018b9dbab22e9bf57b": {
          "model_module": "@jupyter-widgets/controls",
          "model_name": "ProgressStyleModel",
          "model_module_version": "1.5.0",
          "state": {
            "_model_module": "@jupyter-widgets/controls",
            "_model_module_version": "1.5.0",
            "_model_name": "ProgressStyleModel",
            "_view_count": null,
            "_view_module": "@jupyter-widgets/base",
            "_view_module_version": "1.2.0",
            "_view_name": "StyleView",
            "bar_color": null,
            "description_width": ""
          }
        },
        "20e7d6cf88134c9abd08ab233d6c2f83": {
          "model_module": "@jupyter-widgets/base",
          "model_name": "LayoutModel",
          "model_module_version": "1.2.0",
          "state": {
            "_model_module": "@jupyter-widgets/base",
            "_model_module_version": "1.2.0",
            "_model_name": "LayoutModel",
            "_view_count": null,
            "_view_module": "@jupyter-widgets/base",
            "_view_module_version": "1.2.0",
            "_view_name": "LayoutView",
            "align_content": null,
            "align_items": null,
            "align_self": null,
            "border": null,
            "bottom": null,
            "display": null,
            "flex": null,
            "flex_flow": null,
            "grid_area": null,
            "grid_auto_columns": null,
            "grid_auto_flow": null,
            "grid_auto_rows": null,
            "grid_column": null,
            "grid_gap": null,
            "grid_row": null,
            "grid_template_areas": null,
            "grid_template_columns": null,
            "grid_template_rows": null,
            "height": null,
            "justify_content": null,
            "justify_items": null,
            "left": null,
            "margin": null,
            "max_height": null,
            "max_width": null,
            "min_height": null,
            "min_width": null,
            "object_fit": null,
            "object_position": null,
            "order": null,
            "overflow": null,
            "overflow_x": null,
            "overflow_y": null,
            "padding": null,
            "right": null,
            "top": null,
            "visibility": null,
            "width": null
          }
        },
        "66ced90e57a144889d1ff2118d6e7fb7": {
          "model_module": "@jupyter-widgets/controls",
          "model_name": "DescriptionStyleModel",
          "model_module_version": "1.5.0",
          "state": {
            "_model_module": "@jupyter-widgets/controls",
            "_model_module_version": "1.5.0",
            "_model_name": "DescriptionStyleModel",
            "_view_count": null,
            "_view_module": "@jupyter-widgets/base",
            "_view_module_version": "1.2.0",
            "_view_name": "StyleView",
            "description_width": ""
          }
        }
      }
    }
  },
  "cells": [
    {
      "cell_type": "code",
      "execution_count": null,
      "metadata": {
        "id": "kyZLbxZBVXAR"
      },
      "outputs": [],
      "source": [
        "import pandas as pd\n",
        "import numpy as np\n",
        "import matplotlib.pyplot as plt"
      ]
    },
    {
      "cell_type": "markdown",
      "source": [
        "# DeepAR"
      ],
      "metadata": {
        "id": "f6JcWxs-Djhw"
      }
    },
    {
      "cell_type": "code",
      "source": [
        "%%capture\n",
        "%pip install gluonts\n",
        "%pip install pytorch-lightning\n",
        "!pip install --upgrade mxnet==1.6.0\n",
        "!pip install \"gluonts[torch]\""
      ],
      "metadata": {
        "id": "yyYhIGnyWChV"
      },
      "execution_count": null,
      "outputs": []
    },
    {
      "cell_type": "code",
      "source": [
        "import os\n",
        "import matplotlib as mpl\n",
        "from gluonts.torch.model.deepar import DeepAREstimator\n",
        "from gluonts.dataset.common import ListDataset\n",
        "from gluonts.dataset.field_names import FieldName\n",
        "from gluonts.evaluation.backtest import make_evaluation_predictions\n",
        "from tqdm.autonotebook import tqdm\n",
        "from gluonts.evaluation import Evaluator\n",
        "from typing import Dict"
      ],
      "metadata": {
        "id": "KkHyaaofji3y"
      },
      "execution_count": null,
      "outputs": []
    },
    {
      "cell_type": "code",
      "source": [
        "train = pd.read_csv(\"/content/train_sfo_processed.csv\")\n",
        "test = pd.read_csv(\"/content/test_sfo_processed.csv\")"
      ],
      "metadata": {
        "id": "Uv7OPKgMVvHW"
      },
      "execution_count": null,
      "outputs": []
    },
    {
      "cell_type": "code",
      "source": [
        "train"
      ],
      "metadata": {
        "colab": {
          "base_uri": "https://localhost:8080/",
          "height": 444
        },
        "id": "b1_19cbrLpNa",
        "outputId": "5b911d17-c0ad-4482-fffa-8093e9be6d1d"
      },
      "execution_count": null,
      "outputs": [
        {
          "output_type": "execute_result",
          "data": {
            "text/plain": [
              "     year  week  week_beg       revenue   quantity  month  month_revenue  \\\n",
              "0    2019     1  15462144  4.153557e+07  114621.15     12   0.000000e+00   \n",
              "1    2019     2  15468192  5.122229e+07  141523.20      1   0.000000e+00   \n",
              "2    2019     3  15474240  5.712735e+07  157926.30      1   0.000000e+00   \n",
              "3    2019     4  15480288  6.304099e+07  173746.65      1   0.000000e+00   \n",
              "4    2019     5  15486336  6.733689e+07  185551.80      1   0.000000e+00   \n",
              "..    ...   ...       ...           ...        ...    ...            ...   \n",
              "239  2023    31  16907616  5.693151e+07  110088.30      7   4.154829e+08   \n",
              "240  2023    32  16913664  5.988151e+07  115345.65      8   4.154829e+08   \n",
              "241  2023    33  16919712  6.111218e+07  117761.70      8   4.154829e+08   \n",
              "242  2023    34  16925760  6.159493e+07  118356.00      8   4.154829e+08   \n",
              "243  2023    35  16931808  6.310668e+07  120437.10      8   4.534756e+08   \n",
              "\n",
              "            150_r          50_r         500_r  ...  12_competitor_tv_reg  \\\n",
              "0    0.000000e+00  0.000000e+00  0.000000e+00  ...          7.155664e+06   \n",
              "1    0.000000e+00  0.000000e+00  0.000000e+00  ...          8.348274e+06   \n",
              "2    0.000000e+00  0.000000e+00  0.000000e+00  ...          8.348274e+06   \n",
              "3    0.000000e+00  0.000000e+00  0.000000e+00  ...          8.348274e+06   \n",
              "4    0.000000e+00  0.000000e+00  0.000000e+00  ...          8.477038e+06   \n",
              "..            ...           ...           ...  ...                   ...   \n",
              "239  2.436900e+08  1.227134e+08  2.929457e+07  ...          0.000000e+00   \n",
              "240  2.436900e+08  1.227134e+08  2.929457e+07  ...          0.000000e+00   \n",
              "241  2.436900e+08  1.227134e+08  2.929457e+07  ...          0.000000e+00   \n",
              "242  2.436900e+08  1.227134e+08  2.929457e+07  ...          0.000000e+00   \n",
              "243  2.668319e+08  1.323951e+08  3.265456e+07  ...          0.000000e+00   \n",
              "\n",
              "     12_competitor_total  13_competitor_rating  13_competitor_coverage  \\\n",
              "0           1.183425e+07            207.903106                 15.3615   \n",
              "1           1.399653e+07            317.467542                 25.5255   \n",
              "2           1.146629e+07            192.816682                 13.9125   \n",
              "3           1.076463e+07            138.371621                  8.0535   \n",
              "4           1.098497e+07            286.984113                 24.2235   \n",
              "..                   ...                   ...                     ...   \n",
              "239         0.000000e+00              0.000000                  0.0000   \n",
              "240         0.000000e+00              0.000000                  0.0000   \n",
              "241         6.939450e+04              0.000000                  0.0000   \n",
              "242         7.852950e+04              0.000000                  0.0000   \n",
              "243         3.115350e+04              0.000000                  0.0000   \n",
              "\n",
              "     13_competitor_money  13_competitor_digital  \\\n",
              "0      9085528.010322582                    0.0   \n",
              "1      10599782.67870968                    0.0   \n",
              "2      10599782.67870968                    0.0   \n",
              "3      10599782.67870968                    0.0   \n",
              "4     12893092.405548388                    0.0   \n",
              "..                   ...                    ...   \n",
              "239                    0                    0.0   \n",
              "240                    0                    0.0   \n",
              "241                    0                    0.0   \n",
              "242                    0                    0.0   \n",
              "243                    0                    0.0   \n",
              "\n",
              "     13_competitor_sponsorship_money  13_competitor_oon_money  \\\n",
              "0                                0.0                      0.0   \n",
              "1                                0.0                      0.0   \n",
              "2                                0.0                      0.0   \n",
              "3                                0.0                      0.0   \n",
              "4                                0.0                      0.0   \n",
              "..                               ...                      ...   \n",
              "239                              0.0                      0.0   \n",
              "240                              0.0                      0.0   \n",
              "241                              0.0                      0.0   \n",
              "242                              0.0                      0.0   \n",
              "243                              0.0                      0.0   \n",
              "\n",
              "     13_competitor_radio_money 13_competitor_total  \n",
              "0                          0.0        9.085528e+06  \n",
              "1                          0.0        1.059978e+07  \n",
              "2                          0.0        1.059978e+07  \n",
              "3                          0.0        1.059978e+07  \n",
              "4                          0.0        1.289309e+07  \n",
              "..                         ...                 ...  \n",
              "239                        0.0        0.000000e+00  \n",
              "240                        0.0        0.000000e+00  \n",
              "241                        0.0        0.000000e+00  \n",
              "242                        0.0        0.000000e+00  \n",
              "243                        0.0        0.000000e+00  \n",
              "\n",
              "[244 rows x 148 columns]"
            ],
            "text/html": [
              "\n",
              "  <div id=\"df-a731130f-a4f6-4eed-9596-90536cf15dc6\" class=\"colab-df-container\">\n",
              "    <div>\n",
              "<style scoped>\n",
              "    .dataframe tbody tr th:only-of-type {\n",
              "        vertical-align: middle;\n",
              "    }\n",
              "\n",
              "    .dataframe tbody tr th {\n",
              "        vertical-align: top;\n",
              "    }\n",
              "\n",
              "    .dataframe thead th {\n",
              "        text-align: right;\n",
              "    }\n",
              "</style>\n",
              "<table border=\"1\" class=\"dataframe\">\n",
              "  <thead>\n",
              "    <tr style=\"text-align: right;\">\n",
              "      <th></th>\n",
              "      <th>year</th>\n",
              "      <th>week</th>\n",
              "      <th>week_beg</th>\n",
              "      <th>revenue</th>\n",
              "      <th>quantity</th>\n",
              "      <th>month</th>\n",
              "      <th>month_revenue</th>\n",
              "      <th>150_r</th>\n",
              "      <th>50_r</th>\n",
              "      <th>500_r</th>\n",
              "      <th>...</th>\n",
              "      <th>12_competitor_tv_reg</th>\n",
              "      <th>12_competitor_total</th>\n",
              "      <th>13_competitor_rating</th>\n",
              "      <th>13_competitor_coverage</th>\n",
              "      <th>13_competitor_money</th>\n",
              "      <th>13_competitor_digital</th>\n",
              "      <th>13_competitor_sponsorship_money</th>\n",
              "      <th>13_competitor_oon_money</th>\n",
              "      <th>13_competitor_radio_money</th>\n",
              "      <th>13_competitor_total</th>\n",
              "    </tr>\n",
              "  </thead>\n",
              "  <tbody>\n",
              "    <tr>\n",
              "      <th>0</th>\n",
              "      <td>2019</td>\n",
              "      <td>1</td>\n",
              "      <td>15462144</td>\n",
              "      <td>4.153557e+07</td>\n",
              "      <td>114621.15</td>\n",
              "      <td>12</td>\n",
              "      <td>0.000000e+00</td>\n",
              "      <td>0.000000e+00</td>\n",
              "      <td>0.000000e+00</td>\n",
              "      <td>0.000000e+00</td>\n",
              "      <td>...</td>\n",
              "      <td>7.155664e+06</td>\n",
              "      <td>1.183425e+07</td>\n",
              "      <td>207.903106</td>\n",
              "      <td>15.3615</td>\n",
              "      <td>9085528.010322582</td>\n",
              "      <td>0.0</td>\n",
              "      <td>0.0</td>\n",
              "      <td>0.0</td>\n",
              "      <td>0.0</td>\n",
              "      <td>9.085528e+06</td>\n",
              "    </tr>\n",
              "    <tr>\n",
              "      <th>1</th>\n",
              "      <td>2019</td>\n",
              "      <td>2</td>\n",
              "      <td>15468192</td>\n",
              "      <td>5.122229e+07</td>\n",
              "      <td>141523.20</td>\n",
              "      <td>1</td>\n",
              "      <td>0.000000e+00</td>\n",
              "      <td>0.000000e+00</td>\n",
              "      <td>0.000000e+00</td>\n",
              "      <td>0.000000e+00</td>\n",
              "      <td>...</td>\n",
              "      <td>8.348274e+06</td>\n",
              "      <td>1.399653e+07</td>\n",
              "      <td>317.467542</td>\n",
              "      <td>25.5255</td>\n",
              "      <td>10599782.67870968</td>\n",
              "      <td>0.0</td>\n",
              "      <td>0.0</td>\n",
              "      <td>0.0</td>\n",
              "      <td>0.0</td>\n",
              "      <td>1.059978e+07</td>\n",
              "    </tr>\n",
              "    <tr>\n",
              "      <th>2</th>\n",
              "      <td>2019</td>\n",
              "      <td>3</td>\n",
              "      <td>15474240</td>\n",
              "      <td>5.712735e+07</td>\n",
              "      <td>157926.30</td>\n",
              "      <td>1</td>\n",
              "      <td>0.000000e+00</td>\n",
              "      <td>0.000000e+00</td>\n",
              "      <td>0.000000e+00</td>\n",
              "      <td>0.000000e+00</td>\n",
              "      <td>...</td>\n",
              "      <td>8.348274e+06</td>\n",
              "      <td>1.146629e+07</td>\n",
              "      <td>192.816682</td>\n",
              "      <td>13.9125</td>\n",
              "      <td>10599782.67870968</td>\n",
              "      <td>0.0</td>\n",
              "      <td>0.0</td>\n",
              "      <td>0.0</td>\n",
              "      <td>0.0</td>\n",
              "      <td>1.059978e+07</td>\n",
              "    </tr>\n",
              "    <tr>\n",
              "      <th>3</th>\n",
              "      <td>2019</td>\n",
              "      <td>4</td>\n",
              "      <td>15480288</td>\n",
              "      <td>6.304099e+07</td>\n",
              "      <td>173746.65</td>\n",
              "      <td>1</td>\n",
              "      <td>0.000000e+00</td>\n",
              "      <td>0.000000e+00</td>\n",
              "      <td>0.000000e+00</td>\n",
              "      <td>0.000000e+00</td>\n",
              "      <td>...</td>\n",
              "      <td>8.348274e+06</td>\n",
              "      <td>1.076463e+07</td>\n",
              "      <td>138.371621</td>\n",
              "      <td>8.0535</td>\n",
              "      <td>10599782.67870968</td>\n",
              "      <td>0.0</td>\n",
              "      <td>0.0</td>\n",
              "      <td>0.0</td>\n",
              "      <td>0.0</td>\n",
              "      <td>1.059978e+07</td>\n",
              "    </tr>\n",
              "    <tr>\n",
              "      <th>4</th>\n",
              "      <td>2019</td>\n",
              "      <td>5</td>\n",
              "      <td>15486336</td>\n",
              "      <td>6.733689e+07</td>\n",
              "      <td>185551.80</td>\n",
              "      <td>1</td>\n",
              "      <td>0.000000e+00</td>\n",
              "      <td>0.000000e+00</td>\n",
              "      <td>0.000000e+00</td>\n",
              "      <td>0.000000e+00</td>\n",
              "      <td>...</td>\n",
              "      <td>8.477038e+06</td>\n",
              "      <td>1.098497e+07</td>\n",
              "      <td>286.984113</td>\n",
              "      <td>24.2235</td>\n",
              "      <td>12893092.405548388</td>\n",
              "      <td>0.0</td>\n",
              "      <td>0.0</td>\n",
              "      <td>0.0</td>\n",
              "      <td>0.0</td>\n",
              "      <td>1.289309e+07</td>\n",
              "    </tr>\n",
              "    <tr>\n",
              "      <th>...</th>\n",
              "      <td>...</td>\n",
              "      <td>...</td>\n",
              "      <td>...</td>\n",
              "      <td>...</td>\n",
              "      <td>...</td>\n",
              "      <td>...</td>\n",
              "      <td>...</td>\n",
              "      <td>...</td>\n",
              "      <td>...</td>\n",
              "      <td>...</td>\n",
              "      <td>...</td>\n",
              "      <td>...</td>\n",
              "      <td>...</td>\n",
              "      <td>...</td>\n",
              "      <td>...</td>\n",
              "      <td>...</td>\n",
              "      <td>...</td>\n",
              "      <td>...</td>\n",
              "      <td>...</td>\n",
              "      <td>...</td>\n",
              "      <td>...</td>\n",
              "    </tr>\n",
              "    <tr>\n",
              "      <th>239</th>\n",
              "      <td>2023</td>\n",
              "      <td>31</td>\n",
              "      <td>16907616</td>\n",
              "      <td>5.693151e+07</td>\n",
              "      <td>110088.30</td>\n",
              "      <td>7</td>\n",
              "      <td>4.154829e+08</td>\n",
              "      <td>2.436900e+08</td>\n",
              "      <td>1.227134e+08</td>\n",
              "      <td>2.929457e+07</td>\n",
              "      <td>...</td>\n",
              "      <td>0.000000e+00</td>\n",
              "      <td>0.000000e+00</td>\n",
              "      <td>0.000000</td>\n",
              "      <td>0.0000</td>\n",
              "      <td>0</td>\n",
              "      <td>0.0</td>\n",
              "      <td>0.0</td>\n",
              "      <td>0.0</td>\n",
              "      <td>0.0</td>\n",
              "      <td>0.000000e+00</td>\n",
              "    </tr>\n",
              "    <tr>\n",
              "      <th>240</th>\n",
              "      <td>2023</td>\n",
              "      <td>32</td>\n",
              "      <td>16913664</td>\n",
              "      <td>5.988151e+07</td>\n",
              "      <td>115345.65</td>\n",
              "      <td>8</td>\n",
              "      <td>4.154829e+08</td>\n",
              "      <td>2.436900e+08</td>\n",
              "      <td>1.227134e+08</td>\n",
              "      <td>2.929457e+07</td>\n",
              "      <td>...</td>\n",
              "      <td>0.000000e+00</td>\n",
              "      <td>0.000000e+00</td>\n",
              "      <td>0.000000</td>\n",
              "      <td>0.0000</td>\n",
              "      <td>0</td>\n",
              "      <td>0.0</td>\n",
              "      <td>0.0</td>\n",
              "      <td>0.0</td>\n",
              "      <td>0.0</td>\n",
              "      <td>0.000000e+00</td>\n",
              "    </tr>\n",
              "    <tr>\n",
              "      <th>241</th>\n",
              "      <td>2023</td>\n",
              "      <td>33</td>\n",
              "      <td>16919712</td>\n",
              "      <td>6.111218e+07</td>\n",
              "      <td>117761.70</td>\n",
              "      <td>8</td>\n",
              "      <td>4.154829e+08</td>\n",
              "      <td>2.436900e+08</td>\n",
              "      <td>1.227134e+08</td>\n",
              "      <td>2.929457e+07</td>\n",
              "      <td>...</td>\n",
              "      <td>0.000000e+00</td>\n",
              "      <td>6.939450e+04</td>\n",
              "      <td>0.000000</td>\n",
              "      <td>0.0000</td>\n",
              "      <td>0</td>\n",
              "      <td>0.0</td>\n",
              "      <td>0.0</td>\n",
              "      <td>0.0</td>\n",
              "      <td>0.0</td>\n",
              "      <td>0.000000e+00</td>\n",
              "    </tr>\n",
              "    <tr>\n",
              "      <th>242</th>\n",
              "      <td>2023</td>\n",
              "      <td>34</td>\n",
              "      <td>16925760</td>\n",
              "      <td>6.159493e+07</td>\n",
              "      <td>118356.00</td>\n",
              "      <td>8</td>\n",
              "      <td>4.154829e+08</td>\n",
              "      <td>2.436900e+08</td>\n",
              "      <td>1.227134e+08</td>\n",
              "      <td>2.929457e+07</td>\n",
              "      <td>...</td>\n",
              "      <td>0.000000e+00</td>\n",
              "      <td>7.852950e+04</td>\n",
              "      <td>0.000000</td>\n",
              "      <td>0.0000</td>\n",
              "      <td>0</td>\n",
              "      <td>0.0</td>\n",
              "      <td>0.0</td>\n",
              "      <td>0.0</td>\n",
              "      <td>0.0</td>\n",
              "      <td>0.000000e+00</td>\n",
              "    </tr>\n",
              "    <tr>\n",
              "      <th>243</th>\n",
              "      <td>2023</td>\n",
              "      <td>35</td>\n",
              "      <td>16931808</td>\n",
              "      <td>6.310668e+07</td>\n",
              "      <td>120437.10</td>\n",
              "      <td>8</td>\n",
              "      <td>4.534756e+08</td>\n",
              "      <td>2.668319e+08</td>\n",
              "      <td>1.323951e+08</td>\n",
              "      <td>3.265456e+07</td>\n",
              "      <td>...</td>\n",
              "      <td>0.000000e+00</td>\n",
              "      <td>3.115350e+04</td>\n",
              "      <td>0.000000</td>\n",
              "      <td>0.0000</td>\n",
              "      <td>0</td>\n",
              "      <td>0.0</td>\n",
              "      <td>0.0</td>\n",
              "      <td>0.0</td>\n",
              "      <td>0.0</td>\n",
              "      <td>0.000000e+00</td>\n",
              "    </tr>\n",
              "  </tbody>\n",
              "</table>\n",
              "<p>244 rows × 148 columns</p>\n",
              "</div>\n",
              "    <div class=\"colab-df-buttons\">\n",
              "\n",
              "  <div class=\"colab-df-container\">\n",
              "    <button class=\"colab-df-convert\" onclick=\"convertToInteractive('df-a731130f-a4f6-4eed-9596-90536cf15dc6')\"\n",
              "            title=\"Convert this dataframe to an interactive table.\"\n",
              "            style=\"display:none;\">\n",
              "\n",
              "  <svg xmlns=\"http://www.w3.org/2000/svg\" height=\"24px\" viewBox=\"0 -960 960 960\">\n",
              "    <path d=\"M120-120v-720h720v720H120Zm60-500h600v-160H180v160Zm220 220h160v-160H400v160Zm0 220h160v-160H400v160ZM180-400h160v-160H180v160Zm440 0h160v-160H620v160ZM180-180h160v-160H180v160Zm440 0h160v-160H620v160Z\"/>\n",
              "  </svg>\n",
              "    </button>\n",
              "\n",
              "  <style>\n",
              "    .colab-df-container {\n",
              "      display:flex;\n",
              "      gap: 12px;\n",
              "    }\n",
              "\n",
              "    .colab-df-convert {\n",
              "      background-color: #E8F0FE;\n",
              "      border: none;\n",
              "      border-radius: 50%;\n",
              "      cursor: pointer;\n",
              "      display: none;\n",
              "      fill: #1967D2;\n",
              "      height: 32px;\n",
              "      padding: 0 0 0 0;\n",
              "      width: 32px;\n",
              "    }\n",
              "\n",
              "    .colab-df-convert:hover {\n",
              "      background-color: #E2EBFA;\n",
              "      box-shadow: 0px 1px 2px rgba(60, 64, 67, 0.3), 0px 1px 3px 1px rgba(60, 64, 67, 0.15);\n",
              "      fill: #174EA6;\n",
              "    }\n",
              "\n",
              "    .colab-df-buttons div {\n",
              "      margin-bottom: 4px;\n",
              "    }\n",
              "\n",
              "    [theme=dark] .colab-df-convert {\n",
              "      background-color: #3B4455;\n",
              "      fill: #D2E3FC;\n",
              "    }\n",
              "\n",
              "    [theme=dark] .colab-df-convert:hover {\n",
              "      background-color: #434B5C;\n",
              "      box-shadow: 0px 1px 3px 1px rgba(0, 0, 0, 0.15);\n",
              "      filter: drop-shadow(0px 1px 2px rgba(0, 0, 0, 0.3));\n",
              "      fill: #FFFFFF;\n",
              "    }\n",
              "  </style>\n",
              "\n",
              "    <script>\n",
              "      const buttonEl =\n",
              "        document.querySelector('#df-a731130f-a4f6-4eed-9596-90536cf15dc6 button.colab-df-convert');\n",
              "      buttonEl.style.display =\n",
              "        google.colab.kernel.accessAllowed ? 'block' : 'none';\n",
              "\n",
              "      async function convertToInteractive(key) {\n",
              "        const element = document.querySelector('#df-a731130f-a4f6-4eed-9596-90536cf15dc6');\n",
              "        const dataTable =\n",
              "          await google.colab.kernel.invokeFunction('convertToInteractive',\n",
              "                                                    [key], {});\n",
              "        if (!dataTable) return;\n",
              "\n",
              "        const docLinkHtml = 'Like what you see? Visit the ' +\n",
              "          '<a target=\"_blank\" href=https://colab.research.google.com/notebooks/data_table.ipynb>data table notebook</a>'\n",
              "          + ' to learn more about interactive tables.';\n",
              "        element.innerHTML = '';\n",
              "        dataTable['output_type'] = 'display_data';\n",
              "        await google.colab.output.renderOutput(dataTable, element);\n",
              "        const docLink = document.createElement('div');\n",
              "        docLink.innerHTML = docLinkHtml;\n",
              "        element.appendChild(docLink);\n",
              "      }\n",
              "    </script>\n",
              "  </div>\n",
              "\n",
              "\n",
              "<div id=\"df-3697a507-d35c-4abd-9c6d-922e9db06d1f\">\n",
              "  <button class=\"colab-df-quickchart\" onclick=\"quickchart('df-3697a507-d35c-4abd-9c6d-922e9db06d1f')\"\n",
              "            title=\"Suggest charts\"\n",
              "            style=\"display:none;\">\n",
              "\n",
              "<svg xmlns=\"http://www.w3.org/2000/svg\" height=\"24px\"viewBox=\"0 0 24 24\"\n",
              "     width=\"24px\">\n",
              "    <g>\n",
              "        <path d=\"M19 3H5c-1.1 0-2 .9-2 2v14c0 1.1.9 2 2 2h14c1.1 0 2-.9 2-2V5c0-1.1-.9-2-2-2zM9 17H7v-7h2v7zm4 0h-2V7h2v10zm4 0h-2v-4h2v4z\"/>\n",
              "    </g>\n",
              "</svg>\n",
              "  </button>\n",
              "\n",
              "<style>\n",
              "  .colab-df-quickchart {\n",
              "      --bg-color: #E8F0FE;\n",
              "      --fill-color: #1967D2;\n",
              "      --hover-bg-color: #E2EBFA;\n",
              "      --hover-fill-color: #174EA6;\n",
              "      --disabled-fill-color: #AAA;\n",
              "      --disabled-bg-color: #DDD;\n",
              "  }\n",
              "\n",
              "  [theme=dark] .colab-df-quickchart {\n",
              "      --bg-color: #3B4455;\n",
              "      --fill-color: #D2E3FC;\n",
              "      --hover-bg-color: #434B5C;\n",
              "      --hover-fill-color: #FFFFFF;\n",
              "      --disabled-bg-color: #3B4455;\n",
              "      --disabled-fill-color: #666;\n",
              "  }\n",
              "\n",
              "  .colab-df-quickchart {\n",
              "    background-color: var(--bg-color);\n",
              "    border: none;\n",
              "    border-radius: 50%;\n",
              "    cursor: pointer;\n",
              "    display: none;\n",
              "    fill: var(--fill-color);\n",
              "    height: 32px;\n",
              "    padding: 0;\n",
              "    width: 32px;\n",
              "  }\n",
              "\n",
              "  .colab-df-quickchart:hover {\n",
              "    background-color: var(--hover-bg-color);\n",
              "    box-shadow: 0 1px 2px rgba(60, 64, 67, 0.3), 0 1px 3px 1px rgba(60, 64, 67, 0.15);\n",
              "    fill: var(--button-hover-fill-color);\n",
              "  }\n",
              "\n",
              "  .colab-df-quickchart-complete:disabled,\n",
              "  .colab-df-quickchart-complete:disabled:hover {\n",
              "    background-color: var(--disabled-bg-color);\n",
              "    fill: var(--disabled-fill-color);\n",
              "    box-shadow: none;\n",
              "  }\n",
              "\n",
              "  .colab-df-spinner {\n",
              "    border: 2px solid var(--fill-color);\n",
              "    border-color: transparent;\n",
              "    border-bottom-color: var(--fill-color);\n",
              "    animation:\n",
              "      spin 1s steps(1) infinite;\n",
              "  }\n",
              "\n",
              "  @keyframes spin {\n",
              "    0% {\n",
              "      border-color: transparent;\n",
              "      border-bottom-color: var(--fill-color);\n",
              "      border-left-color: var(--fill-color);\n",
              "    }\n",
              "    20% {\n",
              "      border-color: transparent;\n",
              "      border-left-color: var(--fill-color);\n",
              "      border-top-color: var(--fill-color);\n",
              "    }\n",
              "    30% {\n",
              "      border-color: transparent;\n",
              "      border-left-color: var(--fill-color);\n",
              "      border-top-color: var(--fill-color);\n",
              "      border-right-color: var(--fill-color);\n",
              "    }\n",
              "    40% {\n",
              "      border-color: transparent;\n",
              "      border-right-color: var(--fill-color);\n",
              "      border-top-color: var(--fill-color);\n",
              "    }\n",
              "    60% {\n",
              "      border-color: transparent;\n",
              "      border-right-color: var(--fill-color);\n",
              "    }\n",
              "    80% {\n",
              "      border-color: transparent;\n",
              "      border-right-color: var(--fill-color);\n",
              "      border-bottom-color: var(--fill-color);\n",
              "    }\n",
              "    90% {\n",
              "      border-color: transparent;\n",
              "      border-bottom-color: var(--fill-color);\n",
              "    }\n",
              "  }\n",
              "</style>\n",
              "\n",
              "  <script>\n",
              "    async function quickchart(key) {\n",
              "      const quickchartButtonEl =\n",
              "        document.querySelector('#' + key + ' button');\n",
              "      quickchartButtonEl.disabled = true;  // To prevent multiple clicks.\n",
              "      quickchartButtonEl.classList.add('colab-df-spinner');\n",
              "      try {\n",
              "        const charts = await google.colab.kernel.invokeFunction(\n",
              "            'suggestCharts', [key], {});\n",
              "      } catch (error) {\n",
              "        console.error('Error during call to suggestCharts:', error);\n",
              "      }\n",
              "      quickchartButtonEl.classList.remove('colab-df-spinner');\n",
              "      quickchartButtonEl.classList.add('colab-df-quickchart-complete');\n",
              "    }\n",
              "    (() => {\n",
              "      let quickchartButtonEl =\n",
              "        document.querySelector('#df-3697a507-d35c-4abd-9c6d-922e9db06d1f button');\n",
              "      quickchartButtonEl.style.display =\n",
              "        google.colab.kernel.accessAllowed ? 'block' : 'none';\n",
              "    })();\n",
              "  </script>\n",
              "</div>\n",
              "    </div>\n",
              "  </div>\n"
            ],
            "application/vnd.google.colaboratory.intrinsic+json": {
              "type": "dataframe",
              "variable_name": "train"
            }
          },
          "metadata": {},
          "execution_count": 161
        }
      ]
    },
    {
      "cell_type": "code",
      "source": [
        "test_y = train.iloc[215:, 3].values\n",
        "train_y = train.iloc[:215, 3].values"
      ],
      "metadata": {
        "id": "9CjaK8Zfr1Y9"
      },
      "execution_count": null,
      "outputs": []
    },
    {
      "cell_type": "code",
      "source": [
        "train_feat = train.iloc[215:].drop(columns=[\"revenue\"])\n",
        "test_feat = train.iloc[:215].drop(columns=[\"revenue\"])"
      ],
      "metadata": {
        "id": "LisZFBtlMGf7"
      },
      "execution_count": null,
      "outputs": []
    },
    {
      "cell_type": "code",
      "source": [
        "train_feat.columns = range(0, train_feat.shape[1])\n",
        "test_feat.columns = range(0, test_feat.shape[1])"
      ],
      "metadata": {
        "id": "qzjOUMxlMe2G"
      },
      "execution_count": null,
      "outputs": []
    },
    {
      "cell_type": "code",
      "source": [
        "train_feat = train_feat.drop(columns=train_feat.select_dtypes(\"object\").columns).values\n",
        "test_feat = test_feat.drop(columns=test_feat.select_dtypes(\"object\").columns).values"
      ],
      "metadata": {
        "id": "39S0dSuMMthc"
      },
      "execution_count": null,
      "outputs": []
    },
    {
      "cell_type": "code",
      "source": [
        "train_start = pd.Timestamp(\"12/31/2018\")\n",
        "test_start = pd.Timestamp(\"2/13/2023\")\n",
        "train_ds = ListDataset([{\"start\" : train_start, \"target\" : train_y, \"dynamic_feat\" : train_feat}], freq=\"W\")\n",
        "test_ds = ListDataset([{\"start\" : test_start, \"target\" : test_y, \"dynamic_feat\" : test_feat}], freq=\"W\")"
      ],
      "metadata": {
        "id": "iMODxWbUp183"
      },
      "execution_count": null,
      "outputs": []
    },
    {
      "cell_type": "code",
      "source": [
        "estimator = DeepAREstimator(freq=\"W\",\n",
        "                            prediction_length=29,\n",
        "                            num_layers=3,\n",
        "                            hidden_size=128,\n",
        "                            dropout_rate=0,\n",
        "                            trainer_kwargs={'max_epochs': 20}\n",
        "                            )"
      ],
      "metadata": {
        "id": "bnvxORJ3l85k"
      },
      "execution_count": null,
      "outputs": []
    },
    {
      "cell_type": "code",
      "source": [
        "predictor = estimator.train(training_data=train_ds, num_workers=4)"
      ],
      "metadata": {
        "colab": {
          "base_uri": "https://localhost:8080/",
          "height": 1000,
          "referenced_widgets": [
            "e824121651d44fd3aa56fb6c02b765d9",
            "72557dd127ed4216b0162f7790917d14",
            "c6d6cf3c3808445fafbee0bb12d4e5f2",
            "faabb1605d9b4abb90de51ca7d889432",
            "a2740b169caa493aa88670a21934cd85",
            "f7464a2e7018423f833349ad0ef026fb",
            "7f08234ee0b74852b86d02b0e340bdd7",
            "1b0a7275b9be4f68990a07fde299ce2e",
            "707ec96c871546018b9dbab22e9bf57b",
            "20e7d6cf88134c9abd08ab233d6c2f83",
            "66ced90e57a144889d1ff2118d6e7fb7"
          ]
        },
        "id": "FmXkV7DunR3u",
        "outputId": "eaefa5fa-b62d-484a-aeab-2b6def56c554"
      },
      "execution_count": null,
      "outputs": [
        {
          "output_type": "stream",
          "name": "stderr",
          "text": [
            "INFO: GPU available: True (cuda), used: True\n",
            "INFO:lightning.pytorch.utilities.rank_zero:GPU available: True (cuda), used: True\n",
            "INFO: TPU available: False, using: 0 TPU cores\n",
            "INFO:lightning.pytorch.utilities.rank_zero:TPU available: False, using: 0 TPU cores\n",
            "INFO: IPU available: False, using: 0 IPUs\n",
            "INFO:lightning.pytorch.utilities.rank_zero:IPU available: False, using: 0 IPUs\n",
            "INFO: HPU available: False, using: 0 HPUs\n",
            "INFO:lightning.pytorch.utilities.rank_zero:HPU available: False, using: 0 HPUs\n",
            "/usr/local/lib/python3.10/dist-packages/lightning/pytorch/trainer/configuration_validator.py:74: You defined a `validation_step` but have no `val_dataloader`. Skipping val loop.\n",
            "INFO: LOCAL_RANK: 0 - CUDA_VISIBLE_DEVICES: [0]\n",
            "INFO:lightning.pytorch.accelerators.cuda:LOCAL_RANK: 0 - CUDA_VISIBLE_DEVICES: [0]\n",
            "INFO: \n",
            "  | Name  | Type        | Params | In sizes                                                      | Out sizes   \n",
            "---------------------------------------------------------------------------------------------------------------------\n",
            "0 | model | DeepARModel | 343 K  | [[1, 1], [1, 1], [1, 185, 3], [1, 185], [1, 185], [1, 29, 3]] | [1, 100, 29]\n",
            "---------------------------------------------------------------------------------------------------------------------\n",
            "343 K     Trainable params\n",
            "0         Non-trainable params\n",
            "343 K     Total params\n",
            "1.374     Total estimated model params size (MB)\n",
            "INFO:lightning.pytorch.callbacks.model_summary:\n",
            "  | Name  | Type        | Params | In sizes                                                      | Out sizes   \n",
            "---------------------------------------------------------------------------------------------------------------------\n",
            "0 | model | DeepARModel | 343 K  | [[1, 1], [1, 1], [1, 185, 3], [1, 185], [1, 185], [1, 29, 3]] | [1, 100, 29]\n",
            "---------------------------------------------------------------------------------------------------------------------\n",
            "343 K     Trainable params\n",
            "0         Non-trainable params\n",
            "343 K     Total params\n",
            "1.374     Total estimated model params size (MB)\n"
          ]
        },
        {
          "output_type": "display_data",
          "data": {
            "text/plain": [
              "Training: |          | 0/? [00:00<?, ?it/s]"
            ],
            "application/vnd.jupyter.widget-view+json": {
              "version_major": 2,
              "version_minor": 0,
              "model_id": "e824121651d44fd3aa56fb6c02b765d9"
            }
          },
          "metadata": {}
        },
        {
          "output_type": "stream",
          "name": "stderr",
          "text": [
            "INFO: Epoch 0, global step 50: 'train_loss' reached 17.62882 (best 17.62882), saving model to '/content/lightning_logs/version_7/checkpoints/epoch=0-step=50.ckpt' as top 1\n",
            "INFO:lightning.pytorch.utilities.rank_zero:Epoch 0, global step 50: 'train_loss' reached 17.62882 (best 17.62882), saving model to '/content/lightning_logs/version_7/checkpoints/epoch=0-step=50.ckpt' as top 1\n",
            "INFO: Epoch 1, global step 100: 'train_loss' reached 17.31112 (best 17.31112), saving model to '/content/lightning_logs/version_7/checkpoints/epoch=1-step=100.ckpt' as top 1\n",
            "INFO:lightning.pytorch.utilities.rank_zero:Epoch 1, global step 100: 'train_loss' reached 17.31112 (best 17.31112), saving model to '/content/lightning_logs/version_7/checkpoints/epoch=1-step=100.ckpt' as top 1\n",
            "INFO: Epoch 2, global step 150: 'train_loss' reached 17.04031 (best 17.04031), saving model to '/content/lightning_logs/version_7/checkpoints/epoch=2-step=150.ckpt' as top 1\n",
            "INFO:lightning.pytorch.utilities.rank_zero:Epoch 2, global step 150: 'train_loss' reached 17.04031 (best 17.04031), saving model to '/content/lightning_logs/version_7/checkpoints/epoch=2-step=150.ckpt' as top 1\n",
            "INFO: Epoch 3, global step 200: 'train_loss' reached 16.79225 (best 16.79225), saving model to '/content/lightning_logs/version_7/checkpoints/epoch=3-step=200.ckpt' as top 1\n",
            "INFO:lightning.pytorch.utilities.rank_zero:Epoch 3, global step 200: 'train_loss' reached 16.79225 (best 16.79225), saving model to '/content/lightning_logs/version_7/checkpoints/epoch=3-step=200.ckpt' as top 1\n",
            "INFO: Epoch 4, global step 250: 'train_loss' reached 16.66375 (best 16.66375), saving model to '/content/lightning_logs/version_7/checkpoints/epoch=4-step=250.ckpt' as top 1\n",
            "INFO:lightning.pytorch.utilities.rank_zero:Epoch 4, global step 250: 'train_loss' reached 16.66375 (best 16.66375), saving model to '/content/lightning_logs/version_7/checkpoints/epoch=4-step=250.ckpt' as top 1\n",
            "INFO: Epoch 5, global step 300: 'train_loss' reached 16.65142 (best 16.65142), saving model to '/content/lightning_logs/version_7/checkpoints/epoch=5-step=300.ckpt' as top 1\n",
            "INFO:lightning.pytorch.utilities.rank_zero:Epoch 5, global step 300: 'train_loss' reached 16.65142 (best 16.65142), saving model to '/content/lightning_logs/version_7/checkpoints/epoch=5-step=300.ckpt' as top 1\n",
            "INFO: Epoch 6, global step 350: 'train_loss' reached 16.50718 (best 16.50718), saving model to '/content/lightning_logs/version_7/checkpoints/epoch=6-step=350.ckpt' as top 1\n",
            "INFO:lightning.pytorch.utilities.rank_zero:Epoch 6, global step 350: 'train_loss' reached 16.50718 (best 16.50718), saving model to '/content/lightning_logs/version_7/checkpoints/epoch=6-step=350.ckpt' as top 1\n",
            "INFO: Epoch 7, global step 400: 'train_loss' was not in top 1\n",
            "INFO:lightning.pytorch.utilities.rank_zero:Epoch 7, global step 400: 'train_loss' was not in top 1\n",
            "INFO: Epoch 8, global step 450: 'train_loss' was not in top 1\n",
            "INFO:lightning.pytorch.utilities.rank_zero:Epoch 8, global step 450: 'train_loss' was not in top 1\n",
            "INFO: Epoch 9, global step 500: 'train_loss' reached 16.02927 (best 16.02927), saving model to '/content/lightning_logs/version_7/checkpoints/epoch=9-step=500.ckpt' as top 1\n",
            "INFO:lightning.pytorch.utilities.rank_zero:Epoch 9, global step 500: 'train_loss' reached 16.02927 (best 16.02927), saving model to '/content/lightning_logs/version_7/checkpoints/epoch=9-step=500.ckpt' as top 1\n",
            "INFO: Epoch 10, global step 550: 'train_loss' was not in top 1\n",
            "INFO:lightning.pytorch.utilities.rank_zero:Epoch 10, global step 550: 'train_loss' was not in top 1\n",
            "INFO: Epoch 11, global step 600: 'train_loss' was not in top 1\n",
            "INFO:lightning.pytorch.utilities.rank_zero:Epoch 11, global step 600: 'train_loss' was not in top 1\n",
            "INFO: Epoch 12, global step 650: 'train_loss' reached 15.95277 (best 15.95277), saving model to '/content/lightning_logs/version_7/checkpoints/epoch=12-step=650.ckpt' as top 1\n",
            "INFO:lightning.pytorch.utilities.rank_zero:Epoch 12, global step 650: 'train_loss' reached 15.95277 (best 15.95277), saving model to '/content/lightning_logs/version_7/checkpoints/epoch=12-step=650.ckpt' as top 1\n",
            "INFO: Epoch 13, global step 700: 'train_loss' reached 15.85917 (best 15.85917), saving model to '/content/lightning_logs/version_7/checkpoints/epoch=13-step=700.ckpt' as top 1\n",
            "INFO:lightning.pytorch.utilities.rank_zero:Epoch 13, global step 700: 'train_loss' reached 15.85917 (best 15.85917), saving model to '/content/lightning_logs/version_7/checkpoints/epoch=13-step=700.ckpt' as top 1\n",
            "INFO: Epoch 14, global step 750: 'train_loss' reached 15.79514 (best 15.79514), saving model to '/content/lightning_logs/version_7/checkpoints/epoch=14-step=750.ckpt' as top 1\n",
            "INFO:lightning.pytorch.utilities.rank_zero:Epoch 14, global step 750: 'train_loss' reached 15.79514 (best 15.79514), saving model to '/content/lightning_logs/version_7/checkpoints/epoch=14-step=750.ckpt' as top 1\n",
            "INFO: Epoch 15, global step 800: 'train_loss' reached 15.75374 (best 15.75374), saving model to '/content/lightning_logs/version_7/checkpoints/epoch=15-step=800.ckpt' as top 1\n",
            "INFO:lightning.pytorch.utilities.rank_zero:Epoch 15, global step 800: 'train_loss' reached 15.75374 (best 15.75374), saving model to '/content/lightning_logs/version_7/checkpoints/epoch=15-step=800.ckpt' as top 1\n",
            "INFO: Epoch 16, global step 850: 'train_loss' reached 15.68138 (best 15.68138), saving model to '/content/lightning_logs/version_7/checkpoints/epoch=16-step=850.ckpt' as top 1\n",
            "INFO:lightning.pytorch.utilities.rank_zero:Epoch 16, global step 850: 'train_loss' reached 15.68138 (best 15.68138), saving model to '/content/lightning_logs/version_7/checkpoints/epoch=16-step=850.ckpt' as top 1\n",
            "INFO: Epoch 17, global step 900: 'train_loss' was not in top 1\n",
            "INFO:lightning.pytorch.utilities.rank_zero:Epoch 17, global step 900: 'train_loss' was not in top 1\n",
            "INFO: Epoch 18, global step 950: 'train_loss' reached 15.58222 (best 15.58222), saving model to '/content/lightning_logs/version_7/checkpoints/epoch=18-step=950.ckpt' as top 1\n",
            "INFO:lightning.pytorch.utilities.rank_zero:Epoch 18, global step 950: 'train_loss' reached 15.58222 (best 15.58222), saving model to '/content/lightning_logs/version_7/checkpoints/epoch=18-step=950.ckpt' as top 1\n",
            "INFO: Epoch 19, global step 1000: 'train_loss' reached 15.51100 (best 15.51100), saving model to '/content/lightning_logs/version_7/checkpoints/epoch=19-step=1000.ckpt' as top 1\n",
            "INFO:lightning.pytorch.utilities.rank_zero:Epoch 19, global step 1000: 'train_loss' reached 15.51100 (best 15.51100), saving model to '/content/lightning_logs/version_7/checkpoints/epoch=19-step=1000.ckpt' as top 1\n",
            "INFO: `Trainer.fit` stopped: `max_epochs=20` reached.\n",
            "INFO:lightning.pytorch.utilities.rank_zero:`Trainer.fit` stopped: `max_epochs=20` reached.\n"
          ]
        }
      ]
    },
    {
      "cell_type": "code",
      "source": [
        "forecast_it, ts_it = make_evaluation_predictions(\n",
        "    dataset=test_ds,\n",
        "    predictor=predictor,\n",
        "    num_samples=5,\n",
        ")"
      ],
      "metadata": {
        "id": "RhKuyONE8cSY"
      },
      "execution_count": null,
      "outputs": []
    },
    {
      "cell_type": "code",
      "source": [
        "print(\"Gathering time series predictions ...\")\n",
        "forecasts = list(forecast_it)"
      ],
      "metadata": {
        "colab": {
          "base_uri": "https://localhost:8080/"
        },
        "id": "70nJmXaU8hXX",
        "outputId": "0c21fc8d-5e23-4bb8-da47-47fd348930b4"
      },
      "execution_count": null,
      "outputs": [
        {
          "output_type": "stream",
          "name": "stdout",
          "text": [
            "Gathering time series predictions ...\n"
          ]
        }
      ]
    },
    {
      "cell_type": "code",
      "source": [
        "from sklearn.metrics import mean_absolute_percentage_error, r2_score\n",
        "\n",
        "mape = mean_absolute_percentage_error(test_y, preds.reshape(1,29 )[0])\n",
        "r2 = r2_score(test_y, preds.reshape(1,29 )[0])"
      ],
      "metadata": {
        "id": "_qwuluYq-VF3"
      },
      "execution_count": null,
      "outputs": []
    },
    {
      "cell_type": "code",
      "source": [
        "print(mape, r2)"
      ],
      "metadata": {
        "colab": {
          "base_uri": "https://localhost:8080/"
        },
        "id": "dVe55qk__IiD",
        "outputId": "b5b9ae35-0d2e-4040-c57e-58856a850cb0"
      },
      "execution_count": null,
      "outputs": [
        {
          "output_type": "stream",
          "name": "stdout",
          "text": [
            "1.0 -164.06994825050523\n"
          ]
        }
      ]
    },
    {
      "cell_type": "markdown",
      "source": [
        "# Catboost Feature Importance"
      ],
      "metadata": {
        "id": "uIHNW1vRSQS3"
      }
    },
    {
      "cell_type": "code",
      "source": [
        "!pip install catboost"
      ],
      "metadata": {
        "colab": {
          "base_uri": "https://localhost:8080/"
        },
        "id": "sM8QvLtgScUI",
        "outputId": "270313b2-df15-4af0-f723-12709b2157c3"
      },
      "execution_count": null,
      "outputs": [
        {
          "output_type": "stream",
          "name": "stdout",
          "text": [
            "Collecting catboost\n",
            "  Downloading catboost-1.2.3-cp310-cp310-manylinux2014_x86_64.whl (98.5 MB)\n",
            "\u001b[2K     \u001b[90m━━━━━━━━━━━━━━━━━━━━━━━━━━━━━━━━━━━━━━━━\u001b[0m \u001b[32m98.5/98.5 MB\u001b[0m \u001b[31m2.3 MB/s\u001b[0m eta \u001b[36m0:00:00\u001b[0m\n",
            "\u001b[?25hRequirement already satisfied: graphviz in /usr/local/lib/python3.10/dist-packages (from catboost) (0.8.4)\n",
            "Requirement already satisfied: matplotlib in /usr/local/lib/python3.10/dist-packages (from catboost) (3.7.1)\n",
            "Requirement already satisfied: numpy>=1.16.0 in /usr/local/lib/python3.10/dist-packages (from catboost) (1.25.2)\n",
            "Requirement already satisfied: pandas>=0.24 in /usr/local/lib/python3.10/dist-packages (from catboost) (2.0.3)\n",
            "Requirement already satisfied: scipy in /usr/local/lib/python3.10/dist-packages (from catboost) (1.11.4)\n",
            "Requirement already satisfied: plotly in /usr/local/lib/python3.10/dist-packages (from catboost) (5.15.0)\n",
            "Requirement already satisfied: six in /usr/local/lib/python3.10/dist-packages (from catboost) (1.16.0)\n",
            "Requirement already satisfied: python-dateutil>=2.8.2 in /usr/local/lib/python3.10/dist-packages (from pandas>=0.24->catboost) (2.8.2)\n",
            "Requirement already satisfied: pytz>=2020.1 in /usr/local/lib/python3.10/dist-packages (from pandas>=0.24->catboost) (2023.4)\n",
            "Requirement already satisfied: tzdata>=2022.1 in /usr/local/lib/python3.10/dist-packages (from pandas>=0.24->catboost) (2024.1)\n",
            "Requirement already satisfied: contourpy>=1.0.1 in /usr/local/lib/python3.10/dist-packages (from matplotlib->catboost) (1.2.1)\n",
            "Requirement already satisfied: cycler>=0.10 in /usr/local/lib/python3.10/dist-packages (from matplotlib->catboost) (0.12.1)\n",
            "Requirement already satisfied: fonttools>=4.22.0 in /usr/local/lib/python3.10/dist-packages (from matplotlib->catboost) (4.51.0)\n",
            "Requirement already satisfied: kiwisolver>=1.0.1 in /usr/local/lib/python3.10/dist-packages (from matplotlib->catboost) (1.4.5)\n",
            "Requirement already satisfied: packaging>=20.0 in /usr/local/lib/python3.10/dist-packages (from matplotlib->catboost) (24.0)\n",
            "Requirement already satisfied: pillow>=6.2.0 in /usr/local/lib/python3.10/dist-packages (from matplotlib->catboost) (9.4.0)\n",
            "Requirement already satisfied: pyparsing>=2.3.1 in /usr/local/lib/python3.10/dist-packages (from matplotlib->catboost) (3.1.2)\n",
            "Requirement already satisfied: tenacity>=6.2.0 in /usr/local/lib/python3.10/dist-packages (from plotly->catboost) (8.2.3)\n",
            "Installing collected packages: catboost\n",
            "Successfully installed catboost-1.2.3\n"
          ]
        }
      ]
    },
    {
      "cell_type": "code",
      "source": [
        "from catboost import CatBoostRegressor\n",
        "import pandas as pd\n",
        "import numpy as np\n",
        "import matplotlib.pyplot as plt"
      ],
      "metadata": {
        "id": "cZ0dLAqcSRjB"
      },
      "execution_count": null,
      "outputs": []
    },
    {
      "cell_type": "code",
      "source": [
        "train = pd.read_csv(\"/content/train_sfo_processed.csv\")"
      ],
      "metadata": {
        "id": "IDVuydE4SpK3"
      },
      "execution_count": null,
      "outputs": []
    },
    {
      "cell_type": "code",
      "source": [
        "X = train.drop(columns=[\"revenue\"])\n",
        "y = train[[\"revenue\"]]"
      ],
      "metadata": {
        "id": "-sIMq2r_S9aN"
      },
      "execution_count": null,
      "outputs": []
    },
    {
      "cell_type": "code",
      "source": [
        "gbm = CatBoostRegressor(iterations=100, )"
      ],
      "metadata": {
        "id": "1xibqRB7Svt5"
      },
      "execution_count": null,
      "outputs": []
    },
    {
      "cell_type": "code",
      "source": [
        "gbm.fit(X, y, verbose=300)"
      ],
      "metadata": {
        "colab": {
          "base_uri": "https://localhost:8080/"
        },
        "id": "M6uM8XQhS0Oy",
        "outputId": "36cd042a-85a0-435c-85d4-19f293ca037b"
      },
      "execution_count": null,
      "outputs": [
        {
          "output_type": "stream",
          "name": "stdout",
          "text": [
            "Learning rate set to 0.213004\n",
            "0:\tlearn: 19248252.2247775\ttotal: 4.91ms\tremaining: 486ms\n",
            "99:\tlearn: 661841.6883703\ttotal: 440ms\tremaining: 0us\n"
          ]
        },
        {
          "output_type": "execute_result",
          "data": {
            "text/plain": [
              "<catboost.core.CatBoostRegressor at 0x7ea6daa61150>"
            ]
          },
          "metadata": {},
          "execution_count": 41
        }
      ]
    },
    {
      "cell_type": "code",
      "source": [
        "values = sorted(gbm.feature_importances_, reverse=True)\n",
        "features_ids = sorted(range(len(X.columns)), reverse=True, key = lambda x: gbm.feature_importances_[x])"
      ],
      "metadata": {
        "id": "1WMOlXKPTE06"
      },
      "execution_count": null,
      "outputs": []
    },
    {
      "cell_type": "code",
      "source": [
        "pd.Series(X.columns[features_ids]).to_csv(\"importances_.csv\", index=False)"
      ],
      "metadata": {
        "id": "If_4w6HET2d3"
      },
      "execution_count": null,
      "outputs": []
    },
    {
      "cell_type": "code",
      "source": [
        "plt.bar(X.columns[features_ids], values)"
      ],
      "metadata": {
        "colab": {
          "base_uri": "https://localhost:8080/",
          "height": 447
        },
        "id": "r-t9zUM7TQep",
        "outputId": "189e7606-2c05-44c3-9f11-af4d33782753"
      },
      "execution_count": null,
      "outputs": [
        {
          "output_type": "execute_result",
          "data": {
            "text/plain": [
              "<BarContainer object of 5 artists>"
            ]
          },
          "metadata": {},
          "execution_count": 46
        },
        {
          "output_type": "display_data",
          "data": {
            "text/plain": [
              "<Figure size 640x480 with 1 Axes>"
            ],
            "image/png": "[encoded data removed]"
          },
          "metadata": {}
        }
      ]
    },
    {
      "cell_type": "code",
      "source": [
        "plt.scatter(train[\"revenue\"], train[\"month_revenue\"])"
      ],
      "metadata": {
        "colab": {
          "base_uri": "https://localhost:8080/",
          "height": 480
        },
        "id": "Y1-vO49wVrcA",
        "outputId": "b5f42113-e620-4d0b-9fc3-ae01805478be"
      },
      "execution_count": null,
      "outputs": [
        {
          "output_type": "execute_result",
          "data": {
            "text/plain": [
              "<matplotlib.collections.PathCollection at 0x7ea6da81a590>"
            ]
          },
          "metadata": {},
          "execution_count": 55
        },
        {
          "output_type": "display_data",
          "data": {
            "text/plain": [
              "<Figure size 640x480 with 1 Axes>"
            ],
            "image/png": "[encoded data removed]"
          },
          "metadata": {}
        }
      ]
    },
    {
      "cell_type": "code",
      "source": [
        "plt.scatter(train[\"revenue\"], train[\"quantity\"])"
      ],
      "metadata": {
        "id": "f8-zATueWWJI"
      },
      "execution_count": null,
      "outputs": []
    }
  ]
}