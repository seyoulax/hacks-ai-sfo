{
  "nbformat": 4,
  "nbformat_minor": 0,
  "metadata": {
    "colab": {
      "provenance": []
    },
    "kernelspec": {
      "name": "python3",
      "display_name": "Python 3"
    },
    "language_info": {
      "name": "python"
    }
  },
  "cells": [
    {
      "cell_type": "code",
      "execution_count": null,
      "metadata": {
        "id": "Wyx6ACrXCZJh"
      },
      "outputs": [],
      "source": [
        "import pandas as pd\n",
        "import numpy as np\n",
        "from ThymeBoost import ThymeBoost as tb\n",
        "from sklearn.preprocessing import StandardScaler\n",
        "import matplotlib.pyplot as plt\n",
        "from datetime import datetime\n",
        "\n",
        "train = pd.read_csv('train (3).csv')\n",
        "test = pd.read_csv('test_sfo_processed-2.csv')\n",
        "\n"
      ]
    },
    {
      "cell_type": "code",
      "source": [
        "timestamps = train['week_beg'].values * 100\n",
        "test_timestamps = [timestamps[-1] + 604800 * i for i in range(1, 30)]\n",
        "\n",
        "train[train.select_dtypes('object').columns] = train.loc[:, train.select_dtypes('object').columns].replace(' ', 0).astype('float')\n",
        "test[test.select_dtypes('object').columns] = test.loc[:, test.select_dtypes('object').columns].replace(' ', 0).astype('float')\n",
        "\n",
        "train.insert(0, 'week_number', train.index.values)\n",
        "\n",
        "for col in ['_competitor_rating',\n",
        "            '_competitor_coverage',\n",
        "            '_competitor_money',\n",
        "            '_competitor_digital',\n",
        "            '_competitor_sponsorship_money',\n",
        "            '_competitor_oon_money',\n",
        "            '_competitor_radio_money',\n",
        "            '_competitor_total']:\n",
        "\n",
        "    train['competitors_'+col.rsplit('_', 1)[-1]] = train[[str(i) + col for i in range(1, 14)]].sum(axis=1)\n",
        "    train.drop(columns=[str(i) + col for i in range(1, 14)], inplace=True)\n",
        "\n"
      ],
      "metadata": {
        "id": "d2bgtwQqC0dk"
      },
      "execution_count": null,
      "outputs": []
    },
    {
      "cell_type": "code",
      "source": [
        "col = '_competitor_tv_reg'\n",
        "train['competitors_tv_reg'] = train[[str(i) + '_competitor_tv_reg' for i in [3, 5, 6, 7, 9, 12]]].sum(axis=1)\n",
        "train.drop(columns=[str(i) + '_competitor_tv_reg' for i in [3, 5, 6, 7, 9, 12]], inplace=True)\n",
        "\n",
        "for col in ['_video_rating',\n",
        "            '_video_money',\n",
        "            '_video_coverage_5']:\n",
        "\n",
        "    train.drop(columns=[str(i) + col for i in range(1, 5)], inplace=True)\n",
        "\n",
        "\n"
      ],
      "metadata": {
        "id": "SbLvv0vTC2Z2"
      },
      "execution_count": null,
      "outputs": []
    },
    {
      "cell_type": "code",
      "source": [
        "num_cols = train.columns.values.tolist()\n",
        "num_cols.remove('week_beg')\n",
        "num_cols.remove('revenue')\n",
        "\n",
        "target_col = ['revenue']\n",
        "train = train[num_cols + target_col]\n",
        "\n",
        "ss = StandardScaler()\n",
        "train[num_cols] = ss.fit_transform(train[num_cols])\n",
        "\n",
        "ss_target = StandardScaler()\n",
        "train[['revenue']] = ss_target.fit_transform(train[['revenue']])\n",
        "\n",
        "\n"
      ],
      "metadata": {
        "id": "7RC0Kl1jC3nM"
      },
      "execution_count": null,
      "outputs": []
    },
    {
      "cell_type": "code",
      "source": [
        "X_train, y_train = train[num_cols], train[target_col]\n",
        "\n",
        "X_train_list = X_train.values.tolist()\n",
        "y_train_list = y_train.values.flatten().tolist()\n",
        "\n",
        "tb_model = tb()\n",
        "tb_model.fit(X_train_list, y_train_list)\n",
        "\n",
        "pred = tb_model.predict(X_test.values)\n",
        "\n",
        "pred_unscaled = ss_target.inverse_transform(np.array(pred).reshape(-1, 1)).flatten()\n",
        "train_revenue = ss_target.inverse_transform(train['revenue'].values.reshape(-1, 1)).flatten()\n",
        "\n",
        "weeks = [datetime.utcfromtimestamp(timestamp).strftime('%Y-%m-%d') for timestamp in timestamps]\n",
        "test_weeks = [datetime.utcfromtimestamp(timestamp).strftime('%Y-%m-%d') for timestamp in test_timestamps]\n",
        "\n",
        "plt.figure(figsize=(13,10))\n",
        "plt.plot(weeks, train_revenue/10**6, label='Historical revenue')\n",
        "plt.plot(test_weeks, pred_unscaled/10**6, color='red', label='Predicted revenue')\n",
        "plt.title('Historical and Predicted Revenue')\n",
        "plt.xlabel('Date')\n",
        "plt.ylabel('Revenue (Millions)')\n",
        "plt.legend()\n",
        "plt.xticks((weeks+test_weeks)[::10] , fontsize=9, rotation=45)\n",
        "plt.show()"
      ],
      "metadata": {
        "id": "wHBElxWMC6VV"
      },
      "execution_count": null,
      "outputs": []
    }
  ]
}