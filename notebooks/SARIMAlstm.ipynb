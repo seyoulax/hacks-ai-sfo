{
  "nbformat": 4,
  "nbformat_minor": 0,
  "metadata": {
    "colab": {
      "provenance": []
    },
    "kernelspec": {
      "name": "python3",
      "display_name": "Python 3"
    },
    "language_info": {
      "name": "python"
    }
  },
  "cells": [
    {
      "cell_type": "code",
      "execution_count": null,
      "metadata": {
        "id": "AcAVqu8KJy-F"
      },
      "outputs": [],
      "source": [
        "import pandas as pd\n",
        "import numpy as np\n",
        "from statsmodels.tsa.statespace.sarimax import SARIMAX\n",
        "from catboost import CatBoostRegressor\n",
        "from sklearn.preprocessing import StandardScaler\n",
        "import matplotlib.pyplot as plt\n",
        "from datetime import datetime\n",
        "import torch\n",
        "import torch.nn as nn\n",
        "import torch.optim as optim\n",
        "from torch.utils.data import DataLoader, Dataset\n",
        "\n",
        "train = pd.read_csv('train (3).csv')\n",
        "test = pd.read_csv('test_sfo_processed-2.csv')\n",
        "\n",
        "timestamps = train['week_beg'].values * 100\n",
        "test_timestamps = [timestamps[-1] + 604800 * i for i in range(1, 30)]\n",
        "\n",
        "train[train.select_dtypes('object').columns] = train.loc[:, train.select_dtypes('object').columns].replace(' ', 0).astype('float')\n",
        "test[test.select_dtypes('object').columns] = test.loc[:, test.select_dtypes('object').columns].replace(' ', 0).astype('float')\n",
        "\n",
        "train['week_number'] = train.index\n",
        "train['revenue'] = train['revenue'].astype(float)"
      ]
    },
    {
      "cell_type": "code",
      "source": [
        "num_cols = train.select_dtypes(include=[np.number]).columns.tolist()\n",
        "num_cols.remove('week_beg')\n",
        "num_cols.remove('revenue')\n",
        "\n",
        "ss = StandardScaler()\n",
        "train[num_cols] = ss.fit_transform(train[num_cols])\n",
        "\n",
        "ss_target = StandardScaler()\n",
        "train[['revenue']] = ss_target.fit_transform(train[['revenue']])\n",
        "\n",
        "y_train_sarima = train['revenue']\n",
        "\n",
        "X_train_catboost, y_train_catboost = train.drop(columns=['week_beg', 'revenue']), train['revenue']\n"
      ],
      "metadata": {
        "id": "dKBqZo0_J87h"
      },
      "execution_count": null,
      "outputs": []
    },
    {
      "cell_type": "code",
      "source": [
        "class TimeSeriesDataset(Dataset):\n",
        "    def __init__(self, X, y, window=52, num_preds=29):\n",
        "        self.X = X\n",
        "        self.y = y\n",
        "        self.window = window\n",
        "        self.num_preds = num_preds\n",
        "\n",
        "    def __len__(self):\n",
        "        return self.X.__len__() - self.window + 1\n",
        "\n",
        "    def __getitem__(self, index):\n",
        "        return (self.X[index:index+self.window], self.y[index+self.window:index+self.window+self.num_preds])\n",
        "\n",
        "sliding_window = 104\n",
        "train_dataset = TimeSeriesDataset(torch.tensor(train[num_cols].values), torch.tensor(train['revenue'].values), window=sliding_window)\n",
        "\n",
        "train_loader = DataLoader(train_dataset, batch_size=1, shuffle=False)\n",
        "\n",
        "\n",
        "class LstmTimeSeries(nn.Module):\n",
        "    def __init__(self, input_size, hidden_size, num_layers, output_size):\n",
        "        super(LstmTimeSeries, self).__init__()\n",
        "        self.hidden_size = hidden_size\n",
        "        self.num_layers = num_layers\n",
        "        self.lstm = nn.LSTM(input_size, hidden_size, num_layers, batch_first=True)\n",
        "        self.fc = nn.Linear(hidden_size, output_size)\n",
        "\n",
        "    def forward(self, x):\n",
        "        h0 = torch.zeros(self.num_layers, x.size(0), self.hidden_size).to(device)\n",
        "        c0 = torch.zeros(self.num_layers, x.size(0), self.hidden_size).to(device)\n",
        "        out, _ = self.lstm(x, (h0, c0))\n",
        "        out = self.fc(out[:, -1, :])\n",
        "        return out\n",
        "\n",
        "input_size = len(num_cols)\n",
        "hidden_size = 128\n",
        "num_layers = 1\n",
        "output_size = 1\n",
        "device = torch.device('cuda' if torch.cuda.is_available() else 'cpu')\n"
      ],
      "metadata": {
        "id": "mWfyv-GBJ_I2"
      },
      "execution_count": null,
      "outputs": []
    },
    {
      "cell_type": "code",
      "source": [
        "lstm_model = LstmTimeSeries(input_size, hidden_size, num_layers, output_size).to(device)\n",
        "lstm_model.load_state_dict(torch.load('lstm_model.pth'))\n",
        "lstm_model.eval()\n",
        "\n",
        "catboost_model = CatBoostRegressor()\n",
        "catboost_model.fit(X_train_catboost, y_train_catboost)\n",
        "\n",
        "\n",
        "sarima_model = SARIMAX(y_train_sarima, order=(1, 1, 1), seasonal_order=(0, 1, 1, 52))\n",
        "sarima_result = sarima_model.fit()\n",
        "sarima_pred = sarima_result.predict(start=len(train), end=len(train) + len(test) - 1, dynamic=False)\n",
        "\n",
        "\n",
        "lstm_pred_unscaled = []\n",
        "for x, _ in train_loader:\n",
        "    x = x.float().to(device)\n",
        "    lstm_pred_unscaled.extend(lstm_model(x).detach().cpu().numpy().flatten())\n",
        "lstm_pred_unscaled = np.array(lstm_pred_unscaled)\n",
        "\n",
        "catboost_pred_unscaled = catboost_model.predict(test.drop(columns=['week_beg']))\n",
        "sarima_pred_unscaled = sarima_result.predict(start=len(train), end=len(train) + len(test) - 1, dynamic=False)\n",
        "\n",
        "ensemble_pred_unscaled = (sarima_pred_unscaled + lstm_pred_unscaled + catboost_pred_unscaled) / 3.0\n",
        "\n",
        "\n",
        "weeks = [datetime.utcfromtimestamp(timestamp).strftime('%Y-%m-%d') for timestamp in timestamps]\n",
        "test_weeks = [datetime.utcfromtimestamp(timestamp).strftime('%Y-%m-%d') for timestamp in test_timestamps]\n",
        "\n",
        "plt.figure(figsize=(13, 10))\n",
        "plt.plot(weeks, train['revenue'] / 10**6, label='Historical revenue')\n",
        "plt.plot(test_weeks, ensemble_pred_unscaled / 10**6, color='purple', label='Ensemble prediction')\n",
        "plt.title('Historical and Ensemble Predicted Revenue')\n",
        "plt.xlabel('Date')\n",
        "plt.ylabel('Revenue (Millions)')\n",
        "plt.legend()\n",
        "plt.xticks((weeks + test_weeks)[::10], fontsize=9, rotation=45)\n",
        "plt.show()\n"
      ],
      "metadata": {
        "id": "b893qet5KBvB"
      },
      "execution_count": null,
      "outputs": []
    }
  ]
}